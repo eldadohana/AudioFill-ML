{
 "cells": [
  {
   "cell_type": "code",
   "execution_count": null,
   "metadata": {},
   "outputs": [],
   "source": [
    "from training.training_plan import TrainingPlan, Model\n",
    "from models.cnn import cnn_regression\n",
    "from data_set.data_set import DataSet\n",
    "import tensorflow as tf"
   ]
  },
  {
   "cell_type": "code",
   "execution_count": null,
   "metadata": {},
   "outputs": [],
   "source": [
    "training_plan =  TrainingPlan(name=\"CNN\", \n",
    "                              create_model=cnn_regression, \n",
    "                              loss=\"mse\", \n",
    "                              epochs=50, \n",
    "                              batch_size=3, \n",
    "                              create_optimizer=tf.keras.optimizers.Adam,\n",
    "                              optimizer_value=0.01,\n",
    "                              metrics=[],\n",
    "                              verbose=1)\n",
    "\n",
    "data_set = DataSet(training_set_path=\"data_set/training_set/*.wav\",\n",
    "                   cv_set_path=\"data_set/dev_set/*.wav\",\n",
    "                   test_set_path=\"data_set/test_set/*.wav\",\n",
    "                   is_regression=True)"
   ]
  },
  {
   "cell_type": "code",
   "execution_count": null,
   "metadata": {},
   "outputs": [],
   "source": [
    "model = Model(training_plan, data_set)\n",
    "model.train()\n",
    "model.evaluate()\n",
    "model.training_results()"
   ]
  },
  {
   "cell_type": "code",
   "execution_count": null,
   "metadata": {},
   "outputs": [],
   "source": [
    "model.save_lite_model(\"cnn_model\")"
   ]
  }
 ],
 "metadata": {
  "kernelspec": {
   "display_name": ".venv",
   "language": "python",
   "name": "python3"
  },
  "language_info": {
   "codemirror_mode": {
    "name": "ipython",
    "version": 3
   },
   "file_extension": ".py",
   "mimetype": "text/x-python",
   "name": "python",
   "nbconvert_exporter": "python",
   "pygments_lexer": "ipython3",
   "version": "3.12.2"
  }
 },
 "nbformat": 4,
 "nbformat_minor": 2
}
